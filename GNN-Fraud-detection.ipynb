{
  "nbformat": 4,
  "nbformat_minor": 0,
  "metadata": {
    "colab": {
      "provenance": [],
      "gpuType": "T4"
    },
    "kernelspec": {
      "name": "python3",
      "display_name": "Python 3"
    },
    "language_info": {
      "name": "python"
    },
    "accelerator": "GPU"
  },
  "cells": [
    {
      "cell_type": "code",
      "execution_count": 2,
      "metadata": {
        "colab": {
          "base_uri": "https://localhost:8080/"
        },
        "id": "WBiHUqvQptxx",
        "outputId": "6999209b-d02e-4a44-ff68-0d63deede677"
      },
      "outputs": [
        {
          "output_type": "stream",
          "name": "stdout",
          "text": [
            "Requirement already satisfied: torch in /usr/local/lib/python3.10/dist-packages (2.3.0+cu121)\n",
            "Requirement already satisfied: torchvision in /usr/local/lib/python3.10/dist-packages (0.18.0+cu121)\n",
            "Requirement already satisfied: torchaudio in /usr/local/lib/python3.10/dist-packages (2.3.0+cu121)\n",
            "Requirement already satisfied: filelock in /usr/local/lib/python3.10/dist-packages (from torch) (3.14.0)\n",
            "Requirement already satisfied: typing-extensions>=4.8.0 in /usr/local/lib/python3.10/dist-packages (from torch) (4.11.0)\n",
            "Requirement already satisfied: sympy in /usr/local/lib/python3.10/dist-packages (from torch) (1.12)\n",
            "Requirement already satisfied: networkx in /usr/local/lib/python3.10/dist-packages (from torch) (3.3)\n",
            "Requirement already satisfied: jinja2 in /usr/local/lib/python3.10/dist-packages (from torch) (3.1.4)\n",
            "Requirement already satisfied: fsspec in /usr/local/lib/python3.10/dist-packages (from torch) (2023.6.0)\n",
            "Collecting nvidia-cuda-nvrtc-cu12==12.1.105 (from torch)\n",
            "  Using cached nvidia_cuda_nvrtc_cu12-12.1.105-py3-none-manylinux1_x86_64.whl (23.7 MB)\n",
            "Collecting nvidia-cuda-runtime-cu12==12.1.105 (from torch)\n",
            "  Using cached nvidia_cuda_runtime_cu12-12.1.105-py3-none-manylinux1_x86_64.whl (823 kB)\n",
            "Collecting nvidia-cuda-cupti-cu12==12.1.105 (from torch)\n",
            "  Using cached nvidia_cuda_cupti_cu12-12.1.105-py3-none-manylinux1_x86_64.whl (14.1 MB)\n",
            "Collecting nvidia-cudnn-cu12==8.9.2.26 (from torch)\n",
            "  Using cached nvidia_cudnn_cu12-8.9.2.26-py3-none-manylinux1_x86_64.whl (731.7 MB)\n",
            "Collecting nvidia-cublas-cu12==12.1.3.1 (from torch)\n",
            "  Using cached nvidia_cublas_cu12-12.1.3.1-py3-none-manylinux1_x86_64.whl (410.6 MB)\n",
            "Collecting nvidia-cufft-cu12==11.0.2.54 (from torch)\n",
            "  Using cached nvidia_cufft_cu12-11.0.2.54-py3-none-manylinux1_x86_64.whl (121.6 MB)\n",
            "Collecting nvidia-curand-cu12==10.3.2.106 (from torch)\n",
            "  Using cached nvidia_curand_cu12-10.3.2.106-py3-none-manylinux1_x86_64.whl (56.5 MB)\n",
            "Collecting nvidia-cusolver-cu12==11.4.5.107 (from torch)\n",
            "  Using cached nvidia_cusolver_cu12-11.4.5.107-py3-none-manylinux1_x86_64.whl (124.2 MB)\n",
            "Collecting nvidia-cusparse-cu12==12.1.0.106 (from torch)\n",
            "  Using cached nvidia_cusparse_cu12-12.1.0.106-py3-none-manylinux1_x86_64.whl (196.0 MB)\n",
            "Collecting nvidia-nccl-cu12==2.20.5 (from torch)\n",
            "  Using cached nvidia_nccl_cu12-2.20.5-py3-none-manylinux2014_x86_64.whl (176.2 MB)\n",
            "Collecting nvidia-nvtx-cu12==12.1.105 (from torch)\n",
            "  Using cached nvidia_nvtx_cu12-12.1.105-py3-none-manylinux1_x86_64.whl (99 kB)\n",
            "Requirement already satisfied: triton==2.3.0 in /usr/local/lib/python3.10/dist-packages (from torch) (2.3.0)\n",
            "Collecting nvidia-nvjitlink-cu12 (from nvidia-cusolver-cu12==11.4.5.107->torch)\n",
            "  Downloading nvidia_nvjitlink_cu12-12.5.40-py3-none-manylinux2014_x86_64.whl (21.3 MB)\n",
            "\u001b[2K     \u001b[90m━━━━━━━━━━━━━━━━━━━━━━━━━━━━━━━━━━━━━━━━\u001b[0m \u001b[32m21.3/21.3 MB\u001b[0m \u001b[31m35.3 MB/s\u001b[0m eta \u001b[36m0:00:00\u001b[0m\n",
            "\u001b[?25hRequirement already satisfied: numpy in /usr/local/lib/python3.10/dist-packages (from torchvision) (1.25.2)\n",
            "Requirement already satisfied: pillow!=8.3.*,>=5.3.0 in /usr/local/lib/python3.10/dist-packages (from torchvision) (9.4.0)\n",
            "Requirement already satisfied: MarkupSafe>=2.0 in /usr/local/lib/python3.10/dist-packages (from jinja2->torch) (2.1.5)\n",
            "Requirement already satisfied: mpmath>=0.19 in /usr/local/lib/python3.10/dist-packages (from sympy->torch) (1.3.0)\n",
            "Installing collected packages: nvidia-nvtx-cu12, nvidia-nvjitlink-cu12, nvidia-nccl-cu12, nvidia-curand-cu12, nvidia-cufft-cu12, nvidia-cuda-runtime-cu12, nvidia-cuda-nvrtc-cu12, nvidia-cuda-cupti-cu12, nvidia-cublas-cu12, nvidia-cusparse-cu12, nvidia-cudnn-cu12, nvidia-cusolver-cu12\n",
            "Successfully installed nvidia-cublas-cu12-12.1.3.1 nvidia-cuda-cupti-cu12-12.1.105 nvidia-cuda-nvrtc-cu12-12.1.105 nvidia-cuda-runtime-cu12-12.1.105 nvidia-cudnn-cu12-8.9.2.26 nvidia-cufft-cu12-11.0.2.54 nvidia-curand-cu12-10.3.2.106 nvidia-cusolver-cu12-11.4.5.107 nvidia-cusparse-cu12-12.1.0.106 nvidia-nccl-cu12-2.20.5 nvidia-nvjitlink-cu12-12.5.40 nvidia-nvtx-cu12-12.1.105\n"
          ]
        }
      ],
      "source": [
        "pip install torch torchvision torchaudio"
      ]
    },
    {
      "cell_type": "code",
      "source": [
        "pip install torch-geometric"
      ],
      "metadata": {
        "colab": {
          "base_uri": "https://localhost:8080/"
        },
        "id": "Z2pfOlUewAj5",
        "outputId": "35dc24fe-0cbd-4d3e-c4de-4ee44b74ea72"
      },
      "execution_count": 3,
      "outputs": [
        {
          "output_type": "stream",
          "name": "stdout",
          "text": [
            "Collecting torch-geometric\n",
            "  Downloading torch_geometric-2.5.3-py3-none-any.whl (1.1 MB)\n",
            "\u001b[2K     \u001b[90m━━━━━━━━━━━━━━━━━━━━━━━━━━━━━━━━━━━━━━━━\u001b[0m \u001b[32m1.1/1.1 MB\u001b[0m \u001b[31m13.0 MB/s\u001b[0m eta \u001b[36m0:00:00\u001b[0m\n",
            "\u001b[?25hRequirement already satisfied: tqdm in /usr/local/lib/python3.10/dist-packages (from torch-geometric) (4.66.4)\n",
            "Requirement already satisfied: numpy in /usr/local/lib/python3.10/dist-packages (from torch-geometric) (1.25.2)\n",
            "Requirement already satisfied: scipy in /usr/local/lib/python3.10/dist-packages (from torch-geometric) (1.11.4)\n",
            "Requirement already satisfied: fsspec in /usr/local/lib/python3.10/dist-packages (from torch-geometric) (2023.6.0)\n",
            "Requirement already satisfied: jinja2 in /usr/local/lib/python3.10/dist-packages (from torch-geometric) (3.1.4)\n",
            "Requirement already satisfied: aiohttp in /usr/local/lib/python3.10/dist-packages (from torch-geometric) (3.9.5)\n",
            "Requirement already satisfied: requests in /usr/local/lib/python3.10/dist-packages (from torch-geometric) (2.31.0)\n",
            "Requirement already satisfied: pyparsing in /usr/local/lib/python3.10/dist-packages (from torch-geometric) (3.1.2)\n",
            "Requirement already satisfied: scikit-learn in /usr/local/lib/python3.10/dist-packages (from torch-geometric) (1.2.2)\n",
            "Requirement already satisfied: psutil>=5.8.0 in /usr/local/lib/python3.10/dist-packages (from torch-geometric) (5.9.5)\n",
            "Requirement already satisfied: aiosignal>=1.1.2 in /usr/local/lib/python3.10/dist-packages (from aiohttp->torch-geometric) (1.3.1)\n",
            "Requirement already satisfied: attrs>=17.3.0 in /usr/local/lib/python3.10/dist-packages (from aiohttp->torch-geometric) (23.2.0)\n",
            "Requirement already satisfied: frozenlist>=1.1.1 in /usr/local/lib/python3.10/dist-packages (from aiohttp->torch-geometric) (1.4.1)\n",
            "Requirement already satisfied: multidict<7.0,>=4.5 in /usr/local/lib/python3.10/dist-packages (from aiohttp->torch-geometric) (6.0.5)\n",
            "Requirement already satisfied: yarl<2.0,>=1.0 in /usr/local/lib/python3.10/dist-packages (from aiohttp->torch-geometric) (1.9.4)\n",
            "Requirement already satisfied: async-timeout<5.0,>=4.0 in /usr/local/lib/python3.10/dist-packages (from aiohttp->torch-geometric) (4.0.3)\n",
            "Requirement already satisfied: MarkupSafe>=2.0 in /usr/local/lib/python3.10/dist-packages (from jinja2->torch-geometric) (2.1.5)\n",
            "Requirement already satisfied: charset-normalizer<4,>=2 in /usr/local/lib/python3.10/dist-packages (from requests->torch-geometric) (3.3.2)\n",
            "Requirement already satisfied: idna<4,>=2.5 in /usr/local/lib/python3.10/dist-packages (from requests->torch-geometric) (3.7)\n",
            "Requirement already satisfied: urllib3<3,>=1.21.1 in /usr/local/lib/python3.10/dist-packages (from requests->torch-geometric) (2.0.7)\n",
            "Requirement already satisfied: certifi>=2017.4.17 in /usr/local/lib/python3.10/dist-packages (from requests->torch-geometric) (2024.2.2)\n",
            "Requirement already satisfied: joblib>=1.1.1 in /usr/local/lib/python3.10/dist-packages (from scikit-learn->torch-geometric) (1.4.2)\n",
            "Requirement already satisfied: threadpoolctl>=2.0.0 in /usr/local/lib/python3.10/dist-packages (from scikit-learn->torch-geometric) (3.5.0)\n",
            "Installing collected packages: torch-geometric\n",
            "Successfully installed torch-geometric-2.5.3\n"
          ]
        }
      ]
    },
    {
      "cell_type": "code",
      "source": [
        "pip install networkx matplotlib"
      ],
      "metadata": {
        "id": "J9pFbFdowa1P"
      },
      "execution_count": null,
      "outputs": []
    },
    {
      "cell_type": "code",
      "source": [
        "import os\n",
        "import copy\n",
        "import torch\n",
        "import warnings\n",
        "import numpy as np\n",
        "import pandas as pd\n",
        "import networkx as nx\n",
        "import seaborn as sns\n",
        "import matplotlib.pyplot as plt\n",
        "\n",
        "from sklearn.metrics import confusion_matrix, classification_report\n",
        "from sklearn.model_selection import train_test_split\n",
        "\n",
        "from torch_geometric.utils import to_networkx\n",
        "from torch_geometric.data import Data, DataLoader\n",
        "\n",
        "import torch.nn.functional as F\n",
        "from torch.nn import Linear, BatchNorm1d\n",
        "from torch_geometric.nn import GATv2Conv\n",
        "\n",
        "from types import SimpleNamespace"
      ],
      "metadata": {
        "id": "yWAerAxl0ij6"
      },
      "execution_count": null,
      "outputs": []
    },
    {
      "cell_type": "markdown",
      "source": [
        "This code is run on Google colab"
      ],
      "metadata": {
        "id": "wBjv1birwdmN"
      }
    },
    {
      "cell_type": "markdown",
      "source": [
        "If running the code on google colab then not need to do any changes or installing of the dataset is not required.\n"
      ],
      "metadata": {
        "id": "jYBBsALSwi8-"
      }
    },
    {
      "cell_type": "markdown",
      "source": [
        "If running in Notebook or IDE\n",
        "use this link to download the dataset\n",
        "https://www.kaggle.com/datasets/ellipticco/elliptic-data-set/data, unzip the file and read 3 csv files"
      ],
      "metadata": {
        "id": "2JdpfsH4wt5-"
      }
    },
    {
      "cell_type": "code",
      "source": [
        "\n",
        "classes = pd.read_csv(\"archive/elliptic_bitcoin_dataset/elliptic_txs_classes.csv\")\n",
        "edgeslist = pd.read_csv(\"archive/elliptic_bitcoin_dataset/elliptic_txs_edgelist.csv\")\n",
        "features = pd.read_csv(\"archive/elliptic_bitcoin_dataset/elliptic_txs_features.csv\", header = None)"
      ],
      "metadata": {
        "colab": {
          "base_uri": "https://localhost:8080/",
          "height": 345
        },
        "id": "2tRHft_oxi_u",
        "outputId": "41339ecd-3972-4e1f-bee7-e6955a890c5c"
      },
      "execution_count": 1,
      "outputs": [
        {
          "output_type": "error",
          "ename": "ModuleNotFoundError",
          "evalue": "No module named 'torch_geometric'",
          "traceback": [
            "\u001b[0;31m---------------------------------------------------------------------------\u001b[0m",
            "\u001b[0;31mModuleNotFoundError\u001b[0m                       Traceback (most recent call last)",
            "\u001b[0;32m<ipython-input-1-ac62aa09cb35>\u001b[0m in \u001b[0;36m<cell line: 1>\u001b[0;34m()\u001b[0m\n\u001b[0;32m----> 1\u001b[0;31m \u001b[0;32mfrom\u001b[0m \u001b[0mtorch_geometric\u001b[0m\u001b[0;34m.\u001b[0m\u001b[0mdatasets\u001b[0m \u001b[0;32mimport\u001b[0m \u001b[0mEllipticBitcoinDataset\u001b[0m\u001b[0;34m\u001b[0m\u001b[0;34m\u001b[0m\u001b[0m\n\u001b[0m\u001b[1;32m      2\u001b[0m \u001b[0mdataset\u001b[0m \u001b[0;34m=\u001b[0m \u001b[0mEllipticBitcoinDataset\u001b[0m\u001b[0;34m(\u001b[0m\u001b[0mroot\u001b[0m\u001b[0;34m=\u001b[0m\u001b[0;34m'/tmp/EllipticBitcoinDataset'\u001b[0m\u001b[0;34m,\u001b[0m \u001b[0mname\u001b[0m\u001b[0;34m=\u001b[0m\u001b[0;34m'BITCOIN'\u001b[0m\u001b[0;34m)\u001b[0m\u001b[0;34m\u001b[0m\u001b[0;34m\u001b[0m\u001b[0m\n",
            "\u001b[0;31mModuleNotFoundError\u001b[0m: No module named 'torch_geometric'",
            "",
            "\u001b[0;31m---------------------------------------------------------------------------\u001b[0;32m\nNOTE: If your import is failing due to a missing package, you can\nmanually install dependencies using either !pip or !apt.\n\nTo view examples of installing some common dependencies, click the\n\"Open Examples\" button below.\n\u001b[0;31m---------------------------------------------------------------------------\u001b[0m\n"
          ],
          "errorDetails": {
            "actions": [
              {
                "action": "open_url",
                "actionText": "Open Examples",
                "url": "/notebooks/snippets/importing_libraries.ipynb"
              }
            ]
          }
        }
      ]
    },
    {
      "cell_type": "code",
      "source": [
        "import torch\n",
        "import torch.nn.functional as F\n",
        "from torch_geometric.datasets import EllipticBitcoinDataset\n",
        "from torch_geometric.nn import GCNConv, BatchNorm\n",
        "from torch_geometric.loader import DataLoader"
      ],
      "metadata": {
        "id": "NMz7tfPJqPpS"
      },
      "execution_count": 8,
      "outputs": []
    },
    {
      "cell_type": "code",
      "source": [
        "dataset = EllipticBitcoinDataset(root =\"/tmp/dataset\")"
      ],
      "metadata": {
        "colab": {
          "base_uri": "https://localhost:8080/"
        },
        "id": "IdsgTJ6pqjxr",
        "outputId": "71d6cb8c-bb17-4bab-8918-813d01015237"
      },
      "execution_count": 9,
      "outputs": [
        {
          "output_type": "stream",
          "name": "stderr",
          "text": [
            "Downloading https://data.pyg.org/datasets/elliptic/elliptic_txs_features.csv.zip\n",
            "Downloading https://data.pyg.org/datasets/elliptic/elliptic_txs_edgelist.csv.zip\n",
            "Downloading https://data.pyg.org/datasets/elliptic/elliptic_txs_classes.csv.zip\n",
            "Processing...\n",
            "Done!\n"
          ]
        }
      ]
    },
    {
      "cell_type": "code",
      "source": [
        "classes = pd.read_csv(\"/tmp/dataset/raw/elliptic_txs_classes.csv\")\n",
        "edgeslist = pd.read_csv(\"/tmp/dataset/raw/elliptic_txs_edgelist.csv\")\n",
        "features = pd.read_csv(\"/tmp/dataset/raw/elliptic_txs_features.csv\", header = None)"
      ],
      "metadata": {
        "id": "by9LZSpequNv"
      },
      "execution_count": 10,
      "outputs": []
    },
    {
      "cell_type": "code",
      "source": [
        "classes['class'] = classes['class'].map({'unknown': 2, '1': 1, '2': 0})"
      ],
      "metadata": {
        "id": "avtWgc_BrIBW"
      },
      "execution_count": 11,
      "outputs": []
    },
    {
      "cell_type": "code",
      "source": [
        "merge = features.merge(classes, how='left', right_on=\"txId\", left_on=0)\n",
        "merge = merge.sort_values(0).reset_index(drop=True)"
      ],
      "metadata": {
        "id": "UHz5n3KTrmEo"
      },
      "execution_count": 12,
      "outputs": []
    },
    {
      "cell_type": "code",
      "source": [
        "nodes = merge[0].values\n",
        "map_id = {j:i for i,j in enumerate(nodes)}\n",
        "\n",
        "# mapping edges to indices\n",
        "edges = edgeslist.copy()\n",
        "edges.txId1 = edges.txId1.map(map_id)\n",
        "edges.txId2 = edges.txId2.map(map_id)\n",
        "edges = edges.astype(int)\n",
        "\n",
        "edge_index = np.array(edges.values).T\n",
        "edge_index = torch.tensor(edge_index, dtype=torch.long).contiguous()\n",
        "\n",
        "# weights for the edges are equal in case of model without attention\n",
        "weights = torch.tensor([1] * edge_index.shape[1] , dtype=torch.float32)\n",
        "\n",
        "print(\"Total amount of edges in DAG:\", edge_index.shape)"
      ],
      "metadata": {
        "colab": {
          "base_uri": "https://localhost:8080/"
        },
        "id": "MiIC3-dhrs5R",
        "outputId": "e4a0dbce-8ebb-493d-8f44-35ae8c362430"
      },
      "execution_count": 13,
      "outputs": [
        {
          "output_type": "stream",
          "name": "stdout",
          "text": [
            "Total amount of edges in DAG: torch.Size([2, 234355])\n"
          ]
        }
      ]
    },
    {
      "cell_type": "code",
      "source": [
        "node_features = merge.drop(['txId'], axis=1).copy()\n",
        "node_features[0] = node_features[0].map(map_id)\n",
        "\n",
        "# store known and unknown nodes\n",
        "classified_idx = node_features['class'].loc[node_features['class'] != 2].index\n",
        "unclassified_idx = node_features['class'].loc[node_features['class'] == 2].index\n",
        "\n",
        "# replace unkown class with 0, to avoid having 3 classes, this data/labels never used in training\n",
        "node_features['class'] = node_features['class'].replace(2, 0)\n",
        "\n",
        "labels = node_features['class'].values\n",
        "\n",
        "# drop indeces, class and temporal axes\n",
        "node_features = torch.tensor(np.array(node_features.drop([0, 'class', 1], axis=1).values, dtype=np.float32), dtype=torch.float32)"
      ],
      "metadata": {
        "id": "lPrahNjer05x"
      },
      "execution_count": 14,
      "outputs": []
    },
    {
      "cell_type": "code",
      "source": [
        "elliptic_dataset = Data(x = node_features,\n",
        "                        edge_index = edge_index,\n",
        "                        edge_attr = weights,\n",
        "                        y = torch.tensor(labels, dtype=torch.float32))\n",
        "#Printing the count of nodes, edges and features present in the dataset\n",
        "print(f'Number of nodes: {elliptic_dataset.num_nodes}')\n",
        "print(f'Number of node features: {elliptic_dataset.num_features}')\n",
        "print(f'Number of edges: {elliptic_dataset.num_edges}')\n",
        "print(f'Number of edge features: {elliptic_dataset.num_features}')\n",
        "print(f'Average node degree: {elliptic_dataset.num_edges / elliptic_dataset.num_nodes:.2f}')\n",
        "print(f'Number of classes: {len(np.unique(elliptic_dataset.y))}')\n",
        "print(f'Has isolated nodes: {elliptic_dataset.has_isolated_nodes()}')\n",
        "print(f'Has self loops: {elliptic_dataset.has_self_loops()}')\n",
        "print(f'Is directed: {elliptic_dataset.is_directed()}')"
      ],
      "metadata": {
        "colab": {
          "base_uri": "https://localhost:8080/"
        },
        "id": "dZVmy-gIr58M",
        "outputId": "5d278558-2c43-4bd1-a3c4-9ee411f2134b"
      },
      "execution_count": 15,
      "outputs": [
        {
          "output_type": "stream",
          "name": "stdout",
          "text": [
            "Number of nodes: 203769\n",
            "Number of node features: 165\n",
            "Number of edges: 234355\n",
            "Number of edge features: 165\n",
            "Average node degree: 1.15\n",
            "Number of classes: 2\n",
            "Has isolated nodes: False\n",
            "Has self loops: False\n",
            "Is directed: True\n"
          ]
        }
      ]
    },
    {
      "cell_type": "code",
      "source": [
        "#Plotting sub graph with few nodes\n",
        "def plot_subgraph(data, num_nodes=100):\n",
        "    #Converting to NetworkX graph\n",
        "    G = to_networkx(data, to_undirected=True, node_attrs=['x'])\n",
        "    sub_nodes = list(G.nodes)[:num_nodes]\n",
        "    sub_G = G.subgraph(sub_nodes)\n",
        "    plt.figure(figsize=(10, 10))\n",
        "    pos = nx.spring_layout(sub_G, seed=42)\n",
        "    node_colors = [data.y[i].item() for i in sub_G.nodes]\n",
        "    nx.draw_networkx_nodes(sub_G, pos, node_color=node_colors, cmap=plt.get_cmap('coolwarm'), node_size=50)\n",
        "    nx.draw_networkx_edges(sub_G, pos, alpha=0.5)\n",
        "    labels = {i: i for i in sub_G.nodes}\n",
        "    nx.draw_networkx_labels(sub_G, pos, labels, font_size=8)\n",
        "\n",
        "    plt.title(f\"Subgraph Visualization ({num_nodes} nodes)\")\n",
        "    plt.show()\n",
        "\n",
        "plot_subgraph(elliptic_dataset, num_nodes=100)"
      ],
      "metadata": {
        "colab": {
          "base_uri": "https://localhost:8080/",
          "height": 829
        },
        "id": "aVkMa4Lj5iNL",
        "outputId": "9de99527-e9db-4aa3-b74c-efe0214c809c"
      },
      "execution_count": 16,
      "outputs": [
        {
          "output_type": "display_data",
          "data": {
            "text/plain": [
              "<Figure size 1000x1000 with 1 Axes>"
            ],
            "image/png": "[encoded data removed]"
          },
          "metadata": {}
        }
      ]
    },
    {
      "cell_type": "code",
      "source": [
        "config = SimpleNamespace(seed = 0,\n",
        "                         learning_rate = 0.001,\n",
        "                         weight_decay = 1e-5,\n",
        "                         input_dim = 165,\n",
        "                         output_dim = 1,\n",
        "                         hidden_size = 128,\n",
        "                         num_epochs = 100,\n",
        "                         checkpoints_dir = './models/elliptic_gnn',\n",
        "                         device = torch.device('cuda' if torch.cuda.is_available() else 'cpu'))\n",
        "\n",
        "print(\"Using device:\", config.device)"
      ],
      "metadata": {
        "colab": {
          "base_uri": "https://localhost:8080/"
        },
        "id": "BL9MLspVsA5M",
        "outputId": "7f873928-43d4-463f-fd0e-afa506f0715a"
      },
      "execution_count": 19,
      "outputs": [
        {
          "output_type": "stream",
          "name": "stdout",
          "text": [
            "Using device: cuda\n"
          ]
        }
      ]
    },
    {
      "cell_type": "code",
      "source": [
        "y_train = labels[classified_idx]\n",
        "\n",
        "# spliting train set and validation set\n",
        "_, _, _, _, train_idx, valid_idx = train_test_split(node_features[classified_idx],\n",
        "                                                    y_train,\n",
        "                                                    classified_idx,\n",
        "                                                    test_size=0.15,\n",
        "                                                    random_state=config.seed,\n",
        "                                                    stratify=y_train)\n",
        "\n",
        "elliptic_dataset.train_idx = torch.tensor(train_idx, dtype=torch.long)\n",
        "elliptic_dataset.val_idx = torch.tensor(valid_idx, dtype=torch.long)\n",
        "elliptic_dataset.test_idx = torch.tensor(unclassified_idx, dtype=torch.long)\n",
        "\n",
        "print(\"Train dataset size:\", elliptic_dataset.train_idx.shape[0])\n",
        "print(\"Validation dataset size:\", elliptic_dataset.val_idx.shape[0])\n",
        "print(\"Test dataset size:\", elliptic_dataset.test_idx.shape[0])"
      ],
      "metadata": {
        "colab": {
          "base_uri": "https://localhost:8080/"
        },
        "id": "SfHgaotrsDmN",
        "outputId": "9f6c9328-7a87-4a5f-b4cd-71a31d28b9c0"
      },
      "execution_count": 20,
      "outputs": [
        {
          "output_type": "stream",
          "name": "stdout",
          "text": [
            "Train dataset size: 39579\n",
            "Validation dataset size: 6985\n",
            "Test dataset size: 157205\n"
          ]
        }
      ]
    },
    {
      "cell_type": "code",
      "source": [
        "class GAT(torch.nn.Module):\n",
        "    def __init__(self, dim_in, dim_h, dim_out, heads=4):\n",
        "        super(GAT, self).__init__()\n",
        "        self.norm1 = BatchNorm1d(dim_in)\n",
        "        self.gat1 = GATv2Conv(dim_in, dim_h, heads=heads,\n",
        "                              dropout=0.3)\n",
        "        self.norm2 = BatchNorm1d(dim_h*heads)\n",
        "        self.fc1 = torch.nn.Linear(dim_h * heads, dim_h)\n",
        "        self.fc2 = torch.nn.Linear(dim_h, dim_out)\n",
        "\n",
        "    def forward(self, x, edge_index):\n",
        "        h = self.norm1(x)\n",
        "        h = self.gat1(h, edge_index)\n",
        "        h = self.norm2(h)\n",
        "        h = F.leaky_relu(h)\n",
        "        h = F.relu(self.fc1(h))  # Pass through the first FC layer\n",
        "        out = self.fc2(h)\n",
        "        return out\n",
        "\n",
        "def accuracy(y_pred, y_test, prediction_threshold=0.5):\n",
        "    y_pred_label = (torch.sigmoid(y_pred) > prediction_threshold).float()\n",
        "\n",
        "    correct_results_sum = (y_pred_label == y_test).sum().float()\n",
        "    acc = correct_results_sum/y_test.shape[0]\n",
        "\n",
        "    return acc"
      ],
      "metadata": {
        "id": "sGpjl2EosLNK"
      },
      "execution_count": 21,
      "outputs": []
    },
    {
      "cell_type": "code",
      "source": [
        "def train_evaluate(model, data, criterion, optimizer, *args):\n",
        "    num_epochs = args[0]\n",
        "    checkpoints_dir = args[1]\n",
        "    model_filename = args[2]\n",
        "\n",
        "    best_model_wts = copy.deepcopy(model.state_dict())\n",
        "\n",
        "    best_loss = float('inf')\n",
        "\n",
        "    if not os.path.exists(checkpoints_dir):\n",
        "        os.makedirs(checkpoints_dir)\n",
        "    train_losses = []\n",
        "    val_losses = []\n",
        "    model.train()\n",
        "    for epoch in range(num_epochs+1):\n",
        "        # Training\n",
        "        optimizer.zero_grad()\n",
        "        out = model(data.x, data.edge_index)\n",
        "        loss = criterion(out[data.train_idx], data.y[data.train_idx].unsqueeze(1))\n",
        "        acc = accuracy(out[data.train_idx], data.y[data.train_idx].unsqueeze(1), prediction_threshold=0.5)\n",
        "        loss.backward()\n",
        "        optimizer.step()\n",
        "        train_losses.append(loss.item())\n",
        "\n",
        "        # Validation\n",
        "        val_loss = criterion(out[data.val_idx], data.y[data.val_idx].unsqueeze(1))\n",
        "        val_acc = accuracy(out[data.val_idx], data.y[data.val_idx].unsqueeze(1), prediction_threshold=0.5)\n",
        "        val_losses.append(val_loss.item())\n",
        "        if epoch % 10 == 0:\n",
        "            print(f'Epoch {epoch:>3} | Train Loss: {loss:.3f} | Train Acc: '\n",
        "                  f'{acc*100:>6.2f}% | Val Loss: {val_loss:.4f} | '\n",
        "                  f'Val Acc: {val_acc*100:.2f}%')\n",
        "\n",
        "            if val_loss < best_loss:\n",
        "                best_loss = val_loss\n",
        "                print(\"Saving model for best loss\")\n",
        "                checkpoint = {'state_dict': best_model_wts}\n",
        "                torch.save(checkpoint, os.path.join(checkpoints_dir, model_filename))\n",
        "                best_model_wts = copy.deepcopy(model.state_dict())\n",
        "\n",
        "    return model, train_losses, val_losses\n",
        "\n",
        "def test(model, data):\n",
        "    model.eval()\n",
        "    out = model(data.x, data.edge_index)\n",
        "    preds = ((torch.sigmoid(out) > 0.5).float()*1).squeeze(1)\n",
        "    return preds"
      ],
      "metadata": {
        "id": "coMSJ8auxbyG"
      },
      "execution_count": 22,
      "outputs": []
    },
    {
      "cell_type": "code",
      "source": [
        "torch.manual_seed(config.seed)\n",
        "\n",
        "gat_model = GAT(config.input_dim, config.hidden_size, config.output_dim).to(config.device)\n",
        "data_train = elliptic_dataset.to(config.device)\n",
        "\n",
        "optimizer = torch.optim.Adam(gat_model.parameters(), lr=config.learning_rate, weight_decay=config.weight_decay)\n",
        "criterion = torch.nn.BCEWithLogitsLoss()\n",
        "\n",
        "model, train_losses, val_losses = train_evaluate(gat_model,\n",
        "               data_train,\n",
        "               criterion,\n",
        "               optimizer,\n",
        "               config.num_epochs,\n",
        "               config.checkpoints_dir,\n",
        "               'gat_best_model.pth.tar')"
      ],
      "metadata": {
        "colab": {
          "base_uri": "https://localhost:8080/"
        },
        "id": "AOAQ7cdRxf9Y",
        "outputId": "40ca0ef5-e773-484a-b6f0-d14b8670b422"
      },
      "execution_count": 24,
      "outputs": [
        {
          "output_type": "stream",
          "name": "stdout",
          "text": [
            "Epoch   0 | Train Loss: 0.634 | Train Acc:  84.42% | Val Loss: 0.6345 | Val Acc: 84.64%\n",
            "Saving model for best loss\n",
            "Epoch  10 | Train Loss: 0.236 | Train Acc:  90.24% | Val Loss: 0.2372 | Val Acc: 90.24%\n",
            "Saving model for best loss\n",
            "Epoch  20 | Train Loss: 0.195 | Train Acc:  90.24% | Val Loss: 0.1956 | Val Acc: 90.24%\n",
            "Saving model for best loss\n",
            "Epoch  30 | Train Loss: 0.176 | Train Acc:  90.24% | Val Loss: 0.1802 | Val Acc: 90.24%\n",
            "Saving model for best loss\n",
            "Epoch  40 | Train Loss: 0.163 | Train Acc:  91.14% | Val Loss: 0.1647 | Val Acc: 91.35%\n",
            "Saving model for best loss\n",
            "Epoch  50 | Train Loss: 0.150 | Train Acc:  93.94% | Val Loss: 0.1568 | Val Acc: 93.74%\n",
            "Saving model for best loss\n",
            "Epoch  60 | Train Loss: 0.138 | Train Acc:  95.27% | Val Loss: 0.1440 | Val Acc: 95.13%\n",
            "Saving model for best loss\n",
            "Epoch  70 | Train Loss: 0.123 | Train Acc:  96.15% | Val Loss: 0.1289 | Val Acc: 96.11%\n",
            "Saving model for best loss\n",
            "Epoch  80 | Train Loss: 0.109 | Train Acc:  96.66% | Val Loss: 0.1163 | Val Acc: 96.52%\n",
            "Saving model for best loss\n",
            "Epoch  90 | Train Loss: 0.096 | Train Acc:  97.02% | Val Loss: 0.1048 | Val Acc: 96.84%\n",
            "Saving model for best loss\n",
            "Epoch 100 | Train Loss: 0.086 | Train Acc:  97.31% | Val Loss: 0.0990 | Val Acc: 97.08%\n",
            "Saving model for best loss\n"
          ]
        }
      ]
    },
    {
      "cell_type": "code",
      "source": [
        "gat_model.load_state_dict(torch.load(os.path.join(config.checkpoints_dir, 'gat_best_model.pth.tar'))['state_dict'])\n",
        "\n",
        "y_test_preds = test(gat_model, data_train)\n",
        "\n",
        "# confusion matrix on validation data\n",
        "conf_mat = confusion_matrix(data_train.y[data_train.val_idx].detach().cpu().numpy(), y_test_preds[valid_idx].cpu())\n",
        "\n",
        "plt.subplots(figsize=(6,6))\n",
        "sns.set(font_scale=1.4)\n",
        "sns.heatmap(conf_mat, annot=True, fmt=\".0f\", annot_kws={\"size\": 16}, cbar=False)\n",
        "plt.xlabel('Target (true) Class'); plt.ylabel('Output (predicted) class'); plt.title('Confusion Matrix')\n",
        "plt.show();\n",
        "\n",
        "print(classification_report(data_train.y[data_train.val_idx].detach().cpu().numpy(),\n",
        "                            y_test_preds[valid_idx].cpu(),\n",
        "                            target_names=['licit', 'illicit']))"
      ],
      "metadata": {
        "colab": {
          "base_uri": "https://localhost:8080/",
          "height": 732
        },
        "id": "vCGdHoQ0y7EW",
        "outputId": "4e98a878-6eb6-43c1-ae50-c47da5269348"
      },
      "execution_count": 25,
      "outputs": [
        {
          "output_type": "display_data",
          "data": {
            "text/plain": [
              "<Figure size 600x600 with 1 Axes>"
            ],
            "image/png": "[encoded data removed]"
          },
          "metadata": {}
        },
        {
          "output_type": "stream",
          "name": "stdout",
          "text": [
            "              precision    recall  f1-score   support\n",
            "\n",
            "       licit       0.98      0.99      0.98      6303\n",
            "     illicit       0.89      0.81      0.85       682\n",
            "\n",
            "    accuracy                           0.97      6985\n",
            "   macro avg       0.93      0.90      0.92      6985\n",
            "weighted avg       0.97      0.97      0.97      6985\n",
            "\n"
          ]
        }
      ]
    },
    {
      "cell_type": "code",
      "source": [
        "def plot_learning_curve(train_losses, val_losses):\n",
        "    plt.figure(figsize=(10, 6))\n",
        "    plt.plot(train_losses, label='Training Loss')\n",
        "    plt.plot(val_losses, label='Validation Loss')\n",
        "    plt.xlabel('Epochs')\n",
        "    plt.ylabel('Loss')\n",
        "    plt.title('Learning Curve')\n",
        "    plt.legend()\n",
        "    plt.grid(True)\n",
        "    plt.show()\n",
        "\n",
        "plot_learning_curve(train_losses, val_losses)"
      ],
      "metadata": {
        "colab": {
          "base_uri": "https://localhost:8080/",
          "height": 587
        },
        "id": "GJu-_OPny97Q",
        "outputId": "e89d9afc-f82e-46d0-f09e-7b00b7c3c60e"
      },
      "execution_count": 26,
      "outputs": [
        {
          "output_type": "display_data",
          "data": {
            "text/plain": [
              "<Figure size 1000x600 with 1 Axes>"
            ],
            "image/png": "[encoded data removed]"
          },
          "metadata": {}
        }
      ]
    },
    {
      "cell_type": "code",
      "source": [
        "import torch.nn as nn\n",
        "class GATWithoutBatchNorm(GAT):\n",
        "    def __init__(self, dim_in, dim_h, dim_out, heads=4):\n",
        "        super(GATWithoutBatchNorm, self).__init__(dim_in, dim_h, dim_out, heads)\n",
        "        self.norm1 = nn.Identity()\n",
        "        self.norm2 = nn.Identity()\n",
        "    def forward(self, x, edge_index):\n",
        "        h = self.gat1(x, edge_index)\n",
        "        h = F.relu(h)\n",
        "        h = F.relu(self.fc1(h))\n",
        "        out = self.fc2(h)\n",
        "        return out\n",
        "\n",
        "\n",
        "torch.manual_seed(config.seed)\n",
        "\n",
        "model2 = GATWithoutBatchNorm(config.input_dim, config.hidden_size, config.output_dim).to(config.device)\n",
        "data_train = elliptic_dataset.to(config.device)\n",
        "\n",
        "optimizer = torch.optim.Adam(gat_model.parameters(), lr=config.learning_rate, weight_decay=config.weight_decay)\n",
        "criterion = torch.nn.BCEWithLogitsLoss()\n",
        "\n",
        "model, train_losses, val_losses = train_evaluate(model2,\n",
        "               data_train,\n",
        "               criterion,\n",
        "               optimizer,\n",
        "               config.num_epochs,\n",
        "               config.checkpoints_dir,\n",
        "               'gat_best_model.pth.tar')"
      ],
      "metadata": {
        "colab": {
          "base_uri": "https://localhost:8080/"
        },
        "id": "Fn1VtvLbW13J",
        "outputId": "7c9480db-1118-4d0d-8948-2dd41e8daff6"
      },
      "execution_count": 31,
      "outputs": [
        {
          "output_type": "stream",
          "name": "stdout",
          "text": [
            "Epoch   0 | Train Loss: 0.639 | Train Acc:  84.70% | Val Loss: 0.6383 | Val Acc: 84.65%\n",
            "Saving model for best loss\n",
            "Epoch  10 | Train Loss: 0.638 | Train Acc:  84.89% | Val Loss: 0.6386 | Val Acc: 84.45%\n",
            "Epoch  20 | Train Loss: 0.639 | Train Acc:  84.63% | Val Loss: 0.6379 | Val Acc: 84.71%\n",
            "Saving model for best loss\n",
            "Epoch  30 | Train Loss: 0.638 | Train Acc:  84.65% | Val Loss: 0.6392 | Val Acc: 84.47%\n",
            "Epoch  40 | Train Loss: 0.638 | Train Acc:  84.64% | Val Loss: 0.6396 | Val Acc: 84.62%\n",
            "Epoch  50 | Train Loss: 0.639 | Train Acc:  84.44% | Val Loss: 0.6401 | Val Acc: 84.31%\n",
            "Epoch  60 | Train Loss: 0.638 | Train Acc:  84.86% | Val Loss: 0.6375 | Val Acc: 84.82%\n",
            "Saving model for best loss\n",
            "Epoch  70 | Train Loss: 0.639 | Train Acc:  84.59% | Val Loss: 0.6385 | Val Acc: 84.87%\n",
            "Epoch  80 | Train Loss: 0.639 | Train Acc:  84.69% | Val Loss: 0.6390 | Val Acc: 84.57%\n",
            "Epoch  90 | Train Loss: 0.638 | Train Acc:  84.72% | Val Loss: 0.6378 | Val Acc: 84.44%\n",
            "Epoch 100 | Train Loss: 0.638 | Train Acc:  84.75% | Val Loss: 0.6376 | Val Acc: 84.68%\n"
          ]
        }
      ]
    },
    {
      "cell_type": "code",
      "source": [
        "\n",
        "class GCN(torch.nn.Module):\n",
        "  def __init__(self, input_dim, hidden_dim, output_dim, num_layers,\n",
        "                dropout, mode='sup', return_embeds=False):\n",
        "      super(GCN, self).__init__()\n",
        "\n",
        "      # A list of GCNConv layers\n",
        "      self.convs = None\n",
        "\n",
        "      # A list of 1D batch normalization layers\n",
        "      self.bns = None\n",
        "\n",
        "      self.convs = torch.nn.ModuleList([GCNConv(in_channels=input_dim, out_channels=hidden_dim)])\n",
        "      self.bns = torch.nn.ModuleList()\n",
        "      for _ in range(num_layers-2):\n",
        "        self.convs.append(GCNConv(in_channels=hidden_dim, out_channels=hidden_dim))\n",
        "        self.bns.append(torch.nn.BatchNorm1d(hidden_dim))\n",
        "      self.bns.append(torch.nn.BatchNorm1d(hidden_dim))\n",
        "      self.convs.append(GCNConv(in_channels=hidden_dim, out_channels=output_dim))\n",
        "      self.softmax = torch.nn.LogSoftmax()\n",
        "      self.mode = mode\n",
        "      # Probability of an element getting zeroed\n",
        "      self.dropout = dropout\n",
        "\n",
        "  def reset_parameters(self):\n",
        "      for conv in self.convs:\n",
        "          conv.reset_parameters()\n",
        "      for bn in self.bns:\n",
        "          bn.reset_parameters()\n",
        "\n",
        "  def forward(self, x, adj_t):\n",
        "      out = x\n",
        "      for i in range(len(self.bns)):\n",
        "          out = self.convs[i](out, adj_t)\n",
        "          out = self.bns[i](out)\n",
        "          out = F.relu(out)\n",
        "          out = F.dropout(out, p=self.dropout, training=self.training)\n",
        "      out = self.convs[-1](out, adj_t)\n",
        "      if self.mode == 'sup':\n",
        "          out = self.softmax(out)\n",
        "      return out\n",
        "\n",
        "  # Add a method to switch to classification mode\n",
        "  def switch_to_classification(self, output_dim):\n",
        "      self.mode = 'sup'\n",
        "      self.convs[-1] = GCNConv(in_channels=self.convs[-1].in_channels, out_channels=output_dim)"
      ],
      "metadata": {
        "id": "oA4O0HPzZeMI"
      },
      "execution_count": null,
      "outputs": []
    },
    {
      "cell_type": "code",
      "source": [
        "torch.manual_seed(config.seed)\n",
        "\n",
        "model1 = GCN(input_dim = config.input_dim, hidden_dim = config.hidden_size, output_dim = config.output_dim,num_layers = 5, dropout = 0.4 ).to(config.device)\n",
        "data_train = elliptic_dataset.to(config.device)\n",
        "\n",
        "optimizer = torch.optim.Adam(model.parameters(), lr=0.001)\n",
        "loss_fn = torch.nn.CrossEntropyLoss(weight=torch.tensor([0.08, 0.92]))\n",
        "model, train_losses, val_losses = train_evaluate(model1,\n",
        "               data_train,\n",
        "               criterion,\n",
        "               optimizer,\n",
        "               config.num_epochs,\n",
        "               config.checkpoints_dir,\n",
        "               'gat_best_model.pth.tar')"
      ],
      "metadata": {
        "colab": {
          "base_uri": "https://localhost:8080/"
        },
        "id": "BSxRmEUP6_NK",
        "outputId": "f095ecca-52a7-495b-fefe-0d9b1342198e"
      },
      "execution_count": 29,
      "outputs": [
        {
          "output_type": "stream",
          "name": "stderr",
          "text": [
            "/usr/local/lib/python3.10/dist-packages/torch/nn/modules/module.py:1532: UserWarning: Implicit dimension choice for log_softmax has been deprecated. Change the call to include dim=X as an argument.\n",
            "  return self._call_impl(*args, **kwargs)\n"
          ]
        },
        {
          "output_type": "stream",
          "name": "stdout",
          "text": [
            "Epoch   0 | Train Loss: 0.693 | Train Acc:  90.24% | Val Loss: 0.6931 | Val Acc: 90.24%\n",
            "Saving model for best loss\n",
            "Epoch  10 | Train Loss: 0.693 | Train Acc:  90.24% | Val Loss: 0.6931 | Val Acc: 90.24%\n",
            "Epoch  20 | Train Loss: 0.693 | Train Acc:  90.24% | Val Loss: 0.6931 | Val Acc: 90.24%\n",
            "Epoch  30 | Train Loss: 0.693 | Train Acc:  90.24% | Val Loss: 0.6931 | Val Acc: 90.24%\n",
            "Epoch  40 | Train Loss: 0.693 | Train Acc:  90.24% | Val Loss: 0.6931 | Val Acc: 90.24%\n",
            "Epoch  50 | Train Loss: 0.693 | Train Acc:  90.24% | Val Loss: 0.6931 | Val Acc: 90.24%\n",
            "Epoch  60 | Train Loss: 0.693 | Train Acc:  90.24% | Val Loss: 0.6931 | Val Acc: 90.24%\n",
            "Epoch  70 | Train Loss: 0.693 | Train Acc:  90.24% | Val Loss: 0.6931 | Val Acc: 90.24%\n",
            "Epoch  80 | Train Loss: 0.693 | Train Acc:  90.24% | Val Loss: 0.6931 | Val Acc: 90.24%\n",
            "Epoch  90 | Train Loss: 0.693 | Train Acc:  90.24% | Val Loss: 0.6931 | Val Acc: 90.24%\n",
            "Epoch 100 | Train Loss: 0.693 | Train Acc:  90.24% | Val Loss: 0.6931 | Val Acc: 90.24%\n"
          ]
        }
      ]
    },
    {
      "cell_type": "code",
      "source": [
        "from torch_geometric.nn import SAGEConv\n",
        "class GraphSAGE(torch.nn.Module):\n",
        "    def __init__(self, input_dim, hidden_dim, output_dim, num_layers, dropout, mode='sup', return_embeds=False):\n",
        "        super(GraphSAGE, self).__init__()\n",
        "        # A list of SAGEConv layers\n",
        "        self.convs = torch.nn.ModuleList()\n",
        "        # Initialize the first layer\n",
        "        self.convs.append(SAGEConv(in_channels=input_dim, out_channels=hidden_dim))\n",
        "        # Append hidden layers\n",
        "        for _ in range(num_layers - 2):\n",
        "            self.convs.append(SAGEConv(in_channels=hidden_dim, out_channels=hidden_dim))\n",
        "        # Output layer\n",
        "        self.convs.append(SAGEConv(in_channels=hidden_dim, out_channels=output_dim))\n",
        "        self.mode = mode\n",
        "        self.dropout = dropout\n",
        "    def reset_parameters(self):\n",
        "        for conv in self.convs:\n",
        "            conv.reset_parameters()\n",
        "\n",
        "    def forward(self, x, edge_index):\n",
        "        out = x\n",
        "        for conv in self.convs[:-1]:\n",
        "            out = conv(out, edge_index)\n",
        "            out = F.relu(out)\n",
        "            out = F.dropout(out, p=self.dropout, training=self.training)\n",
        "        out = self.convs[-1](out, edge_index)\n",
        "        if self.mode == 'sup':\n",
        "            out = F.log_softmax(out, dim=1)\n",
        "        return out\n",
        "\n",
        "    def switch_to_classification(self, output_dim):\n",
        "        self.mode = 'sup'\n",
        "        self.convs[-1] = SAGEConv(in_channels=self.convs[-1].in_channels, out_channels=output_dim)\n"
      ],
      "metadata": {
        "id": "IhscJKuH9Nx0"
      },
      "execution_count": 36,
      "outputs": []
    },
    {
      "cell_type": "code",
      "source": [
        "torch.manual_seed(config.seed)\n",
        "\n",
        "model3 = GraphSAGE(input_dim = config.input_dim, hidden_dim = config.hidden_size, output_dim = config.output_dim,num_layers = 5, dropout = 0.3 ).to(config.device)\n",
        "data_train = elliptic_dataset.to(config.device)\n",
        "\n",
        "optimizer = torch.optim.Adam(model.parameters(), lr=0.001)\n",
        "loss_fn = torch.nn.CrossEntropyLoss(weight=torch.tensor([0.08, 0.92]))\n",
        "model, train_losses, val_losses = train_evaluate(model3,\n",
        "               data_train,\n",
        "               criterion,\n",
        "               optimizer,\n",
        "               config.num_epochs,\n",
        "               config.checkpoints_dir,\n",
        "               'gat_best_model.pth.tar')"
      ],
      "metadata": {
        "colab": {
          "base_uri": "https://localhost:8080/"
        },
        "id": "XA_v7QlFc_qy",
        "outputId": "4984ee52-4c5e-4766-88f5-71df9a2de512"
      },
      "execution_count": 38,
      "outputs": [
        {
          "output_type": "stream",
          "name": "stdout",
          "text": [
            "Epoch   0 | Train Loss: 0.693 | Train Acc:  90.24% | Val Loss: 0.6931 | Val Acc: 90.24%\n",
            "Saving model for best loss\n",
            "Epoch  10 | Train Loss: 0.693 | Train Acc:  90.24% | Val Loss: 0.6931 | Val Acc: 90.24%\n",
            "Epoch  20 | Train Loss: 0.693 | Train Acc:  90.24% | Val Loss: 0.6931 | Val Acc: 90.24%\n",
            "Epoch  30 | Train Loss: 0.693 | Train Acc:  90.24% | Val Loss: 0.6931 | Val Acc: 90.24%\n",
            "Epoch  40 | Train Loss: 0.693 | Train Acc:  90.24% | Val Loss: 0.6931 | Val Acc: 90.24%\n",
            "Epoch  50 | Train Loss: 0.693 | Train Acc:  90.24% | Val Loss: 0.6931 | Val Acc: 90.24%\n",
            "Epoch  60 | Train Loss: 0.693 | Train Acc:  90.24% | Val Loss: 0.6931 | Val Acc: 90.24%\n",
            "Epoch  70 | Train Loss: 0.693 | Train Acc:  90.24% | Val Loss: 0.6931 | Val Acc: 90.24%\n",
            "Epoch  80 | Train Loss: 0.693 | Train Acc:  90.24% | Val Loss: 0.6931 | Val Acc: 90.24%\n",
            "Epoch  90 | Train Loss: 0.693 | Train Acc:  90.24% | Val Loss: 0.6931 | Val Acc: 90.24%\n",
            "Epoch 100 | Train Loss: 0.693 | Train Acc:  90.24% | Val Loss: 0.6931 | Val Acc: 90.24%\n"
          ]
        }
      ]
    },
    {
      "cell_type": "code",
      "source": [],
      "metadata": {
        "id": "jBPHGRQdeGMJ"
      },
      "execution_count": null,
      "outputs": []
    }
  ]
}